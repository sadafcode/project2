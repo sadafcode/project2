{
  "nbformat": 4,
  "nbformat_minor": 0,
  "metadata": {
    "colab": {
      "provenance": [],
      "include_colab_link": true
    },
    "kernelspec": {
      "name": "python3",
      "display_name": "Python 3"
    },
    "language_info": {
      "name": "python"
    }
  },
  "cells": [
    {
      "cell_type": "markdown",
      "metadata": {
        "id": "view-in-github",
        "colab_type": "text"
      },
      "source": [
        "<a href=\"https://colab.research.google.com/github/sadafcode/project2/blob/main/project_2.ipynb\" target=\"_parent\"><img src=\"https://colab.research.google.com/assets/colab-badge.svg\" alt=\"Open In Colab\"/></a>"
      ]
    },
    {
      "cell_type": "code",
      "source": [
        "import random\n",
        "def guess(n):\n",
        "  random_num = random.randint(1,n)\n",
        "  guess =0\n",
        "  while guess!=random_num:\n",
        "    guess = int(input(f\"guess a number between 1 and {n} \"))\n",
        "    if guess < random_num:\n",
        "      print(\"guess id too low\")\n",
        "    elif guess>random_num:\n",
        "      print(\"guess is too high\")\n",
        "    else:\n",
        "      print(f\"congratulation your guess is right the num is {random_num}\")\n",
        "\n",
        "\n",
        "guess(10)"
      ],
      "metadata": {
        "colab": {
          "base_uri": "https://localhost:8080/"
        },
        "id": "bHZnqTwTNp63",
        "outputId": "fc886729-d257-4f2d-fc61-607ad94e49f7"
      },
      "execution_count": null,
      "outputs": [
        {
          "output_type": "stream",
          "name": "stdout",
          "text": [
            "guess a number between 1 and 10 6\n",
            "guess id too low\n",
            "guess a number between 1 and 10 8\n",
            "guess id too low\n",
            "guess a number between 1 and 10 9\n",
            "congratulation your guess is right the num is 9\n"
          ]
        }
      ]
    }
  ]
}